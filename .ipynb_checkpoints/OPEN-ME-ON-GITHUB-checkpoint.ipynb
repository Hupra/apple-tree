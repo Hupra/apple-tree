{
 "cells": [
  {
   "cell_type": "code",
   "execution_count": 10,
   "metadata": {},
   "outputs": [
    {
     "name": "stdout",
     "output_type": "stream",
     "text": [
      "3\n",
      "3\n",
      "5\n",
      "15\n",
      "19\n",
      "21\n",
      "27\n",
      "27\n",
      "29\n",
      "33\n",
      "33\n",
      "43\n",
      "49\n",
      "49\n",
      "57\n",
      "57\n",
      "58\n",
      "70\n",
      "70\n",
      "72\n",
      "86\n"
     ]
    }
   ],
   "source": [
    "from apple_tree import Node, insert\n",
    "from random import randint\n",
    "\n",
    "\n",
    "root = Node(5)\n",
    "\n",
    "for i in range(20):\n",
    "    root = insert(root, randint(1, 100), root=False)\n",
    "\n",
    "\n",
    "def print_children(node):\n",
    "\n",
    "    if node.left:\n",
    "        print_children(node.left)\n",
    "\n",
    "    print(node.value)\n",
    "\n",
    "    if node.right:\n",
    "        print_children(node.right)\n",
    "\n",
    "\n",
    "print_children(root)"
   ]
  }
 ],
 "metadata": {
  "kernelspec": {
   "display_name": "Python 3",
   "language": "python",
   "name": "python3"
  },
  "language_info": {
   "codemirror_mode": {
    "name": "ipython",
    "version": 3
   },
   "file_extension": ".py",
   "mimetype": "text/x-python",
   "name": "python",
   "nbconvert_exporter": "python",
   "pygments_lexer": "ipython3",
   "version": "3.7.3"
  }
 },
 "nbformat": 4,
 "nbformat_minor": 2
}
